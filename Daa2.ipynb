{
 "cells": [
  {
   "cell_type": "markdown",
   "id": "d7065e77",
   "metadata": {},
   "source": [
    "Huffman Encoding Algorithm:\n",
    "Huffman Encoding is a lossless data compression algorithm. It works by assigning variable-length codes to input characters, where shorter codes are assigned to more frequent characters.\n",
    "\n",
    "Steps:\n",
    "Build a priority queue (or min-heap) of nodes based on character frequencies.\n",
    "Extract two nodes with the lowest frequency from the heap.\n",
    "Create a new internal node with a frequency equal to the sum of the two nodes' frequencies. Make the two extracted nodes the left and right children of this new node.\n",
    "Insert the new node back into the heap.\n",
    "Repeat until there is only one node left in the heap (the root of the Huffman tree).\n",
    "Traverse the tree to generate Huffman codes."
   ]
  },
  {
   "cell_type": "markdown",
   "id": "09c8126b",
   "metadata": {},
   "source": [
    "Class Definition:\n",
    "We define a class HuffmanNode to represent nodes in the Huffman Tree. Each node contains a character and its frequency, as well as pointers to its left and right children.\n",
    "Huffman Tree Construction:\n",
    "We use a min-heap (priority queue) to store the nodes. We continuously extract two nodes with the smallest frequency, combine them into a new node, and insert the new node back into the heap. This process is repeated until only one node (the root of the tree) is left.\n"
   ]
  },
  {
   "cell_type": "code",
   "execution_count": 1,
   "id": "99f2690c",
   "metadata": {},
   "outputs": [
    {
     "name": "stdout",
     "output_type": "stream",
     "text": [
      "Huffman Codes:\n",
      "'f': 0\n",
      "'c': 100\n",
      "'d': 101\n",
      "'a': 1100\n",
      "'b': 1101\n",
      "'e': 111\n"
     ]
    }
   ],
   "source": [
    "import heapq\n",
    "from collections import defaultdict\n",
    "\n",
    "# Define a class for Huffman Tree Nodes\n",
    "class HuffmanNode:\n",
    "    def __init__(self, char, freq):\n",
    "        self.char = char\n",
    "        self.freq = freq\n",
    "        self.left = None\n",
    "        self.right = None\n",
    "\n",
    "    # Define comparison operators for priority queue (heapq)\n",
    "    def __lt__(self, other):\n",
    "        return self.freq < other.freq\n",
    "\n",
    "# Function to print Huffman codes\n",
    "def print_huffman_codes(root, code=\"\"):\n",
    "    if root is None:\n",
    "        return\n",
    "\n",
    "    # If this is a leaf node, it contains a character\n",
    "    if root.char is not None:\n",
    "        print(f\"'{root.char}': {code}\")\n",
    "\n",
    "    # Traverse the left and right subtrees\n",
    "    print_huffman_codes(root.left, code + \"0\")\n",
    "    print_huffman_codes(root.right, code + \"1\")\n",
    "\n",
    "# Function to generate Huffman Codes\n",
    "def huffman_encoding(char_freq):\n",
    "    # Build a min-heap (priority queue)\n",
    "    heap = []\n",
    "    for char, freq in char_freq.items():\n",
    "        heapq.heappush(heap, HuffmanNode(char, freq))\n",
    "\n",
    "    # Build the Huffman Tree\n",
    "    while len(heap) > 1:\n",
    "        # Extract the two nodes with the smallest frequency\n",
    "        left = heapq.heappop(heap)\n",
    "        right = heapq.heappop(heap)\n",
    "\n",
    "        # Create a new internal node with these two nodes as children\n",
    "        merged = HuffmanNode(None, left.freq + right.freq)\n",
    "        merged.left = left\n",
    "        merged.right = right\n",
    "\n",
    "        # Add the new node back to the heap\n",
    "        heapq.heappush(heap, merged)\n",
    "\n",
    "    # The root of the tree is the last node remaining in the heap\n",
    "    root = heapq.heappop(heap)\n",
    "    \n",
    "    # Print the Huffman codes by traversing the tree\n",
    "    print_huffman_codes(root)\n",
    "\n",
    "# Example usage:\n",
    "if __name__ == \"__main__\":\n",
    "    # Example character frequencies\n",
    "    char_freq = {\n",
    "        'a': 5,\n",
    "        'b': 9,\n",
    "        'c': 12,\n",
    "        'd': 13,\n",
    "        'e': 16,\n",
    "        'f': 45\n",
    "    }\n",
    "\n",
    "    print(\"Huffman Codes:\")\n",
    "    huffman_encoding(char_freq)\n"
   ]
  },
  {
   "cell_type": "code",
   "execution_count": null,
   "id": "d01ce504",
   "metadata": {},
   "outputs": [],
   "source": []
  }
 ],
 "metadata": {
  "kernelspec": {
   "display_name": "Python 3 (ipykernel)",
   "language": "python",
   "name": "python3"
  },
  "language_info": {
   "codemirror_mode": {
    "name": "ipython",
    "version": 3
   },
   "file_extension": ".py",
   "mimetype": "text/x-python",
   "name": "python",
   "nbconvert_exporter": "python",
   "pygments_lexer": "ipython3",
   "version": "3.11.5"
  }
 },
 "nbformat": 4,
 "nbformat_minor": 5
}
