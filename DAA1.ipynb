{
 "cells": [
  {
   "cell_type": "code",
   "execution_count": null,
   "id": "7005b843",
   "metadata": {},
   "outputs": [],
   "source": [
    "Time Complexity:\n",
    "O(n): The function uses a loop that runs n times, making the time complexity linear.\n",
    "Space Complexity:\n",
    "O(1): The space complexity is constant since we only use a fixed amount of extra space (two variables prev and curr).\n"
   ]
  },
  {
   "cell_type": "code",
   "execution_count": null,
   "id": "7cf209f6",
   "metadata": {},
   "outputs": [],
   "source": [
    "Conclusion:\n",
    "Iterative approach is significantly more efficient in both time and space, especially for large values of n.\n",
    "Recursive approach, while elegant and simple to implement, becomes infeasible for large values of n due to exponential time complexity and stack overflow risks from deep recursion."
   ]
  },
  {
   "cell_type": "code",
   "execution_count": 3,
   "id": "15a71e3b",
   "metadata": {},
   "outputs": [
    {
     "name": "stdout",
     "output_type": "stream",
     "text": [
      "Enter the number of terms: 9\n",
      "Fibonacci Series: [0, 1, 1, 2, 3, 5, 8, 13, 21]\n",
      "Step Counts: [1, 1, 3, 5, 9, 15, 25, 41, 67]\n"
     ]
    }
   ],
   "source": [
    "def fibonacci(n):\n",
    "    if n <= 1:\n",
    "        return n, 1\n",
    "    else:\n",
    "        fib1, count1 = fibonacci(n - 1)\n",
    "        fib2, count2 = fibonacci(n - 2)\n",
    "        return fib1 + fib2, count1 + count2 + 1\n",
    "\n",
    "def fibonacci_series_with_steps(n):\n",
    "    series = []\n",
    "    steps = []\n",
    "    \n",
    "    for i in range(n):\n",
    "        fib_num, step_count = fibonacci(i)\n",
    "        series.append(fib_num)\n",
    "        steps.append(step_count)\n",
    "    \n",
    "    return series, steps\n",
    "\n",
    "n = int(input(\"Enter the number of terms: \"))\n",
    "series, steps = fibonacci_series_with_steps(n)\n",
    "\n",
    "print(\"Fibonacci Series:\", series)\n",
    "print(\"Step Counts:\", steps)"
   ]
  },
  {
   "cell_type": "code",
   "execution_count": null,
   "id": "c384d7a6",
   "metadata": {},
   "outputs": [],
   "source": []
  }
 ],
 "metadata": {
  "kernelspec": {
   "display_name": "Python 3 (ipykernel)",
   "language": "python",
   "name": "python3"
  },
  "language_info": {
   "codemirror_mode": {
    "name": "ipython",
    "version": 3
   },
   "file_extension": ".py",
   "mimetype": "text/x-python",
   "name": "python",
   "nbconvert_exporter": "python",
   "pygments_lexer": "ipython3",
   "version": "3.11.5"
  }
 },
 "nbformat": 4,
 "nbformat_minor": 5
}
