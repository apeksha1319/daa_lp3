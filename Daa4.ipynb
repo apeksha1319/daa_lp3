{
 "cells": [
  {
   "cell_type": "markdown",
   "id": "10aeef25",
   "metadata": {},
   "source": [
    "Dynamic Programming Approach:\n",
    "Dynamic programming solves the problem by building a table dp[i][w], where:\n",
    "\n",
    "i is the index of the item being considered.\n",
    "w is the current capacity of the knapsack.\n",
    "dp[i][w] represents the maximum value that can be obtained using the first i items with a knapsack capacity w."
   ]
  },
  {
   "cell_type": "markdown",
   "id": "773b5e6e",
   "metadata": {},
   "source": [
    "Explanation:\n",
    "Dynamic Programming Table (dp):\n",
    "\n",
    "We create a 2D table dp where dp[i][w] holds the maximum value we can get with the first i items and capacity w.\n",
    "The value for each item and capacity is determined by either:\n",
    "Including the item (if its weight is less than or equal to the remaining capacity) and adding its value.\n",
    "Not including the item and carrying over the best value from the previous item.\n",
    "Recurrence Relation:\n",
    "\n",
    "If we decide to include the item: dp[i][w] = dp[i-1][w-weights[i-1]] + values[i-1]\n",
    "If we decide not to include the item: dp[i][w] = dp[i-1][w]\n",
    "Result:\n",
    "\n",
    "The maximum value that can be achieved with n items and capacity W will be stored in dp[n][W].\n",
    "Example:\n",
    "For the input:\n",
    "\n",
    "Values: [60, 100, 120]\n",
    "Weights: [10, 20, 30]\n",
    "Capacity: 50"
   ]
  },
  {
   "cell_type": "code",
   "execution_count": 2,
   "id": "15dad554",
   "metadata": {},
   "outputs": [
    {
     "name": "stdout",
     "output_type": "stream",
     "text": [
      "Enter the capacity of the knapsack: 50\n",
      "Maximum value in the knapsack: 220\n"
     ]
    }
   ],
   "source": [
    "def knapsack_01(values, weights, capacity):\n",
    "    n = len(values)  # Number of items\n",
    "\n",
    "    # Create a 2D dp array where dp[i][w] represents the maximum value \n",
    "    # that can be obtained with the first i items and a knapsack capacity of w\n",
    "    dp = [[0 for _ in range(capacity + 1)] for _ in range(n + 1)]\n",
    "\n",
    "    # Build the dp array in a bottom-up manner\n",
    "    for i in range(1, n + 1):\n",
    "        for w in range(1, capacity + 1):\n",
    "            if weights[i - 1] <= w:  # Can we include the item in the knapsack?\n",
    "                # Max value either by including or excluding the current item\n",
    "                dp[i][w] = max(dp[i - 1][w], values[i - 1] + dp[i - 1][w - weights[i - 1]])\n",
    "            else:\n",
    "                # If the current item cannot be included, carry forward the value without it\n",
    "                dp[i][w] = dp[i - 1][w]\n",
    "\n",
    "    # Return the maximum value with n items and the full capacity\n",
    "    return dp[n][capacity]\n",
    "\n",
    "def main():\n",
    "    # Values and weights for the items\n",
    "    values = [60, 100, 120]\n",
    "    weights = [10, 20, 30]\n",
    "\n",
    "    # Input the capacity of the knapsack\n",
    "    capacity = int(input(\"Enter the capacity of the knapsack: \"))\n",
    "\n",
    "    # Calculate the maximum value that can be carried in the knapsack\n",
    "    max_value = knapsack_01(values, weights, capacity)\n",
    "\n",
    "    # Print the result\n",
    "    print(f\"Maximum value in the knapsack: {max_value}\")\n",
    "\n",
    "if __name__ == \"__main__\":\n",
    "    main()\n"
   ]
  },
  {
   "cell_type": "code",
   "execution_count": null,
   "id": "03e92e04",
   "metadata": {},
   "outputs": [],
   "source": []
  }
 ],
 "metadata": {
  "kernelspec": {
   "display_name": "Python 3 (ipykernel)",
   "language": "python",
   "name": "python3"
  },
  "language_info": {
   "codemirror_mode": {
    "name": "ipython",
    "version": 3
   },
   "file_extension": ".py",
   "mimetype": "text/x-python",
   "name": "python",
   "nbconvert_exporter": "python",
   "pygments_lexer": "ipython3",
   "version": "3.11.5"
  }
 },
 "nbformat": 4,
 "nbformat_minor": 5
}
