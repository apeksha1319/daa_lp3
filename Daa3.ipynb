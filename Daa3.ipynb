{
 "cells": [
  {
   "cell_type": "markdown",
   "id": "6f96de17",
   "metadata": {},
   "source": [
    "Greedy Approach for Fractional Knapsack:\n",
    "Calculate the value-to-weight ratio for each item.\n",
    "Sort the items based on this ratio in descending order.\n",
    "Pick items with the highest ratio until the knapsack is full. If the next item is too large to fit, take a fraction of it"
   ]
  },
  {
   "cell_type": "code",
   "execution_count": 2,
   "id": "d6de38b6",
   "metadata": {},
   "outputs": [
    {
     "name": "stdout",
     "output_type": "stream",
     "text": [
      "Enter the capacity of the knapsack: 50\n",
      "Taking all of item item1, value: 60, weight: 10\n",
      "Taking all of item item2, value: 100, weight: 20\n",
      "Taking 66.67% of item item3, value: 80.00, weight: 20.0\n",
      "Maximum value in the knapsack: 240.00\n"
     ]
    }
   ],
   "source": [
    "def fractional_knapsack(items, capacity):\n",
    "    # Sort items based on the value-to-weight ratio in descending order\n",
    "    items.sort(key=lambda x: x[1] / x[2], reverse=True)\n",
    "\n",
    "    total_value = 0.0  # Total value of the knapsack\n",
    "\n",
    "    for item in items:\n",
    "        name, value, weight = item  # Extracting the name, value, and weight of the item\n",
    "\n",
    "        if capacity == 0:  # If the knapsack is full, break the loop\n",
    "            break\n",
    "\n",
    "        if weight <= capacity:  # If the item can fit entirely in the knapsack\n",
    "            total_value += value  # Add the entire value of the item\n",
    "            capacity -= weight  # Reduce the capacity of the knapsack\n",
    "            print(f\"Taking all of item {name}, value: {value}, weight: {weight}\")\n",
    "        else:  # If only part of the item can fit in the knapsack\n",
    "            fraction = capacity / weight  # Calculate the fraction of the item\n",
    "            total_value += value * fraction  # Add the fractional value of the item\n",
    "            print(f\"Taking {fraction * 100:.2f}% of item {name}, value: {value * fraction:.2f}, weight: {capacity}\")\n",
    "            capacity = 0  # Knapsack is full after taking the fraction\n",
    "\n",
    "    return total_value  # Return the total value of the knapsack\n",
    "\n",
    "def main():\n",
    "    # List of items (name, value, weight)\n",
    "    items = [\n",
    "        (\"item1\", 60, 10),\n",
    "        (\"item2\", 100, 20),\n",
    "        (\"item3\", 120, 30)\n",
    "    ]\n",
    "\n",
    "    # Input the capacity of the knapsack\n",
    "    capacity = float(input(\"Enter the capacity of the knapsack: \"))\n",
    "\n",
    "    # Calculate the maximum value that can be taken in the knapsack\n",
    "    max_value = fractional_knapsack(items, capacity)\n",
    "\n",
    "    # Print the result\n",
    "    print(f\"Maximum value in the knapsack: {max_value:.2f}\")\n",
    "\n",
    "if __name__ == \"__main__\":\n",
    "    main()\n"
   ]
  },
  {
   "cell_type": "code",
   "execution_count": null,
   "id": "6e489b56",
   "metadata": {},
   "outputs": [],
   "source": []
  }
 ],
 "metadata": {
  "kernelspec": {
   "display_name": "Python 3 (ipykernel)",
   "language": "python",
   "name": "python3"
  },
  "language_info": {
   "codemirror_mode": {
    "name": "ipython",
    "version": 3
   },
   "file_extension": ".py",
   "mimetype": "text/x-python",
   "name": "python",
   "nbconvert_exporter": "python",
   "pygments_lexer": "ipython3",
   "version": "3.11.5"
  }
 },
 "nbformat": 4,
 "nbformat_minor": 5
}
